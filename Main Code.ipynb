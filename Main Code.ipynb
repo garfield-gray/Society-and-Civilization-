{
 "cells": [
  {
   "cell_type": "code",
   "execution_count": 1,
   "id": "7fbfa80a",
   "metadata": {},
   "outputs": [],
   "source": [
    "#well first we gotta make our Society\n"
   ]
  },
  {
   "cell_type": "code",
   "execution_count": null,
   "id": "1d0aad74",
   "metadata": {},
   "outputs": [],
   "source": []
  }
 ],
 "metadata": {
  "kernelspec": {
   "display_name": "Julia 1.6.2",
   "language": "julia",
   "name": "julia-1.6"
  },
  "language_info": {
   "file_extension": ".jl",
   "mimetype": "application/julia",
   "name": "julia",
   "version": "1.6.2"
  }
 },
 "nbformat": 4,
 "nbformat_minor": 5
}
