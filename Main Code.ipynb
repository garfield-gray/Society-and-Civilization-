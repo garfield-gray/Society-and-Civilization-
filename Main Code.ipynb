{
 "cells": [
  {
   "cell_type": "code",
   "execution_count": 1,
   "id": "7fbfa80a",
   "metadata": {},
   "outputs": [
    {
     "data": {
      "text/plain": [
       "0"
      ]
     },
     "execution_count": 1,
     "metadata": {},
     "output_type": "execute_result"
    }
   ],
   "source": [
    "#well first we gotta make our Societyt\n",
    "t = 0"
   ]
  },
  {
   "cell_type": "code",
   "execution_count": 2,
   "id": "1d0aad74",
   "metadata": {},
   "outputs": [],
   "source": [
    "using Distributions"
   ]
  },
  {
   "cell_type": "code",
   "execution_count": 4,
   "id": "0e7d262a",
   "metadata": {},
   "outputs": [
    {
     "data": {
      "text/plain": [
       "10×3 Matrix{Float64}:\n",
       " 0.276952   0.858536    0.316176\n",
       " 0.0620623  0.28899     0.806244\n",
       " 0.347849   0.642328    0.448366\n",
       " 0.655365   0.0686875   0.96952\n",
       " 0.20879    0.884781    0.0647135\n",
       " 0.0721932  0.11417     0.065808\n",
       " 0.658225   0.254429    0.0120468\n",
       " 0.711689   0.746713    0.329788\n",
       " 0.73472    0.32138     0.264184\n",
       " 0.531414   0.00985765  0.177488"
      ]
     },
     "execution_count": 4,
     "metadata": {},
     "output_type": "execute_result"
    }
   ],
   "source": [
    "rand(10,3) #3D Civilization of 10 individuals"
   ]
  },
  {
   "cell_type": "code",
   "execution_count": null,
   "id": "6926c2f9",
   "metadata": {},
   "outputs": [],
   "source": []
  }
 ],
 "metadata": {
  "kernelspec": {
   "display_name": "Julia 1.6.2",
   "language": "julia",
   "name": "julia-1.6"
  },
  "language_info": {
   "file_extension": ".jl",
   "mimetype": "application/julia",
   "name": "julia",
   "version": "1.6.2"
  }
 },
 "nbformat": 4,
 "nbformat_minor": 5
}
